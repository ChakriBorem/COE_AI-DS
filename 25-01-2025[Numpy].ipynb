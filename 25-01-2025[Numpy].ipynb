{
 "cells": [
  {
   "cell_type": "code",
   "execution_count": 1,
   "id": "0a7ab7bf",
   "metadata": {},
   "outputs": [
    {
     "name": "stdout",
     "output_type": "stream",
     "text": [
      "Requirement already satisfied: numpy in c:\\users\\cvr\\anaconda3\\lib\\site-packages (1.24.3)\n",
      "Note: you may need to restart the kernel to use updated packages.\n"
     ]
    }
   ],
   "source": [
    "pip install numpy"
   ]
  },
  {
   "cell_type": "code",
   "execution_count": 35,
   "id": "5d58c359",
   "metadata": {},
   "outputs": [
    {
     "data": {
      "text/plain": [
       "array([[1, 2, 3]])"
      ]
     },
     "execution_count": 35,
     "metadata": {},
     "output_type": "execute_result"
    }
   ],
   "source": [
    "import numpy as np\n",
    "arr_1d=np.array([1,2,3])\n",
    "arr_1d"
   ]
  },
  {
   "cell_type": "code",
   "execution_count": 42,
   "id": "25c88f06",
   "metadata": {},
   "outputs": [
    {
     "data": {
      "text/plain": [
       "array([[1, 2, 3],\n",
       "       [4, 5, 6]])"
      ]
     },
     "execution_count": 42,
     "metadata": {},
     "output_type": "execute_result"
    }
   ],
   "source": [
    "arr_2d=np.array([[1,2,3],[4,5,6]])\n",
    "arr_2d"
   ]
  },
  {
   "cell_type": "code",
   "execution_count": 7,
   "id": "12734d4b",
   "metadata": {},
   "outputs": [
    {
     "data": {
      "text/plain": [
       "array([[[1, 2, 3],\n",
       "        [4, 5, 6],\n",
       "        [7, 8, 9]],\n",
       "\n",
       "       [[1, 2, 3],\n",
       "        [4, 5, 6],\n",
       "        [7, 8, 9]]])"
      ]
     },
     "execution_count": 7,
     "metadata": {},
     "output_type": "execute_result"
    }
   ],
   "source": [
    "arr_3d=np.array([[[1,2,3],[4,5,6],[7,8,9]],[[1,2,3],[4,5,6],[7,8,9]]])\n",
    "arr_3d"
   ]
  },
  {
   "cell_type": "code",
   "execution_count": 10,
   "id": "6cd8a3ac",
   "metadata": {},
   "outputs": [
    {
     "data": {
      "text/plain": [
       "array([[0., 0., 0.],\n",
       "       [0., 0., 0.]])"
      ]
     },
     "execution_count": 10,
     "metadata": {},
     "output_type": "execute_result"
    }
   ],
   "source": [
    "zeros=np.zeros((2,3))\n",
    "zeros"
   ]
  },
  {
   "cell_type": "code",
   "execution_count": 11,
   "id": "7868ca9c",
   "metadata": {},
   "outputs": [
    {
     "data": {
      "text/plain": [
       "array([[1., 1., 1.],\n",
       "       [1., 1., 1.]])"
      ]
     },
     "execution_count": 11,
     "metadata": {},
     "output_type": "execute_result"
    }
   ],
   "source": [
    "ones=np.ones((2,3))\n",
    "ones"
   ]
  },
  {
   "cell_type": "code",
   "execution_count": 13,
   "id": "e61ce22b",
   "metadata": {},
   "outputs": [
    {
     "data": {
      "text/plain": [
       "array([[0.83245262, 0.37969205],\n",
       "       [0.37686721, 0.55875301]])"
      ]
     },
     "execution_count": 13,
     "metadata": {},
     "output_type": "execute_result"
    }
   ],
   "source": [
    "random=np.random.random((2,2))\n",
    "random"
   ]
  },
  {
   "cell_type": "code",
   "execution_count": 28,
   "id": "3e5c73e8",
   "metadata": {},
   "outputs": [
    {
     "data": {
      "text/plain": [
       "array([[2, 0],\n",
       "       [0, 3]])"
      ]
     },
     "execution_count": 28,
     "metadata": {},
     "output_type": "execute_result"
    }
   ],
   "source": [
    "diag=np.diag((2,3))\n",
    "diag"
   ]
  },
  {
   "cell_type": "code",
   "execution_count": 26,
   "id": "88175f86",
   "metadata": {},
   "outputs": [
    {
     "data": {
      "text/plain": [
       "array([[1., 0., 0.],\n",
       "       [0., 1., 0.],\n",
       "       [0., 0., 1.]])"
      ]
     },
     "execution_count": 26,
     "metadata": {},
     "output_type": "execute_result"
    }
   ],
   "source": [
    "identity=np.eye(3)\n",
    "identity"
   ]
  },
  {
   "cell_type": "code",
   "execution_count": 30,
   "id": "3b292a8b",
   "metadata": {},
   "outputs": [
    {
     "data": {
      "text/plain": [
       "array([0, 2, 4, 6, 8])"
      ]
     },
     "execution_count": 30,
     "metadata": {},
     "output_type": "execute_result"
    }
   ],
   "source": [
    "range_arr=np.arange(0,10,2)\n",
    "range_arr"
   ]
  },
  {
   "cell_type": "code",
   "execution_count": 43,
   "id": "424b7037",
   "metadata": {},
   "outputs": [
    {
     "data": {
      "text/plain": [
       "(2, 3)"
      ]
     },
     "execution_count": 43,
     "metadata": {},
     "output_type": "execute_result"
    }
   ],
   "source": [
    "arr_2d.shape"
   ]
  },
  {
   "cell_type": "code",
   "execution_count": 32,
   "id": "935bb264",
   "metadata": {},
   "outputs": [
    {
     "data": {
      "text/plain": [
       "6"
      ]
     },
     "execution_count": 32,
     "metadata": {},
     "output_type": "execute_result"
    }
   ],
   "source": [
    "arr_2d.size"
   ]
  },
  {
   "cell_type": "code",
   "execution_count": 33,
   "id": "c366392d",
   "metadata": {},
   "outputs": [
    {
     "data": {
      "text/plain": [
       "dtype('int32')"
      ]
     },
     "execution_count": 33,
     "metadata": {},
     "output_type": "execute_result"
    }
   ],
   "source": [
    "arr_2d.dtype"
   ]
  },
  {
   "cell_type": "code",
   "execution_count": 44,
   "id": "a818a723",
   "metadata": {},
   "outputs": [
    {
     "data": {
      "text/plain": [
       "2"
      ]
     },
     "execution_count": 44,
     "metadata": {},
     "output_type": "execute_result"
    }
   ],
   "source": [
    "arr_2d.ndim"
   ]
  },
  {
   "cell_type": "code",
   "execution_count": 45,
   "id": "96ef7cdd",
   "metadata": {},
   "outputs": [
    {
     "data": {
      "text/plain": [
       "2"
      ]
     },
     "execution_count": 45,
     "metadata": {},
     "output_type": "execute_result"
    }
   ],
   "source": [
    "arr_2d[0,1]"
   ]
  },
  {
   "cell_type": "code",
   "execution_count": 46,
   "id": "cdb345bc",
   "metadata": {},
   "outputs": [
    {
     "data": {
      "text/plain": [
       "6"
      ]
     },
     "execution_count": 46,
     "metadata": {},
     "output_type": "execute_result"
    }
   ],
   "source": [
    "arr_2d[1,2]"
   ]
  },
  {
   "cell_type": "code",
   "execution_count": 50,
   "id": "6b8e1be9",
   "metadata": {},
   "outputs": [
    {
     "data": {
      "text/plain": [
       "array([[2, 3],\n",
       "       [5, 6]])"
      ]
     },
     "execution_count": 50,
     "metadata": {},
     "output_type": "execute_result"
    }
   ],
   "source": [
    "arr_2d[0:2,1:3]"
   ]
  },
  {
   "cell_type": "code",
   "execution_count": 51,
   "id": "ac3c0057",
   "metadata": {},
   "outputs": [
    {
     "data": {
      "text/plain": [
       "21"
      ]
     },
     "execution_count": 51,
     "metadata": {},
     "output_type": "execute_result"
    }
   ],
   "source": [
    "arr_2d.sum()"
   ]
  },
  {
   "cell_type": "code",
   "execution_count": 53,
   "id": "85ab45f3",
   "metadata": {},
   "outputs": [
    {
     "data": {
      "text/plain": [
       "3.5"
      ]
     },
     "execution_count": 53,
     "metadata": {},
     "output_type": "execute_result"
    }
   ],
   "source": [
    "arr_2d.mean()"
   ]
  },
  {
   "cell_type": "code",
   "execution_count": 60,
   "id": "97b98728",
   "metadata": {},
   "outputs": [
    {
     "name": "stdout",
     "output_type": "stream",
     "text": [
      "[5 7 9]\n",
      "[ 4 10 18]\n",
      "[3 3 3]\n",
      "[0.25 0.4  0.5 ]\n",
      "[4 2 2]\n",
      "[1 2 3]\n"
     ]
    }
   ],
   "source": [
    "arr1=np.array([1,2,3])\n",
    "arr2=np.array([4,5,6])\n",
    "print(arr1+arr2)\n",
    "print(arr2*arr1)\n",
    "print(arr2-arr1)\n",
    "print(arr1/arr2)\n",
    "print(arr2//arr1)\n",
    "print(arr1%arr2)"
   ]
  },
  {
   "cell_type": "code",
   "execution_count": 72,
   "id": "51f03f5b",
   "metadata": {},
   "outputs": [
    {
     "name": "stdout",
     "output_type": "stream",
     "text": [
      "3\n",
      "1\n",
      "0.816496580927726\n"
     ]
    }
   ],
   "source": [
    "print(arr1.max())\n",
    "print(arr1.min())\n",
    "print(np.std(arr1))"
   ]
  },
  {
   "cell_type": "code",
   "execution_count": 65,
   "id": "f0a76b6c",
   "metadata": {},
   "outputs": [
    {
     "data": {
      "text/plain": [
       "array([[54, 66, 78],\n",
       "       [54, 69, 84],\n",
       "       [46, 56, 66]])"
      ]
     },
     "execution_count": 65,
     "metadata": {},
     "output_type": "execute_result"
    }
   ],
   "source": [
    "#Matrix multiplication\n",
    "arr3=np.array([[3,4,5],[7,3,5],[1,6,3]])\n",
    "arr4=np.array([[1,2,3],[4,5,6],[7,8,9]])\n",
    "result=np.dot(arr3,arr4)\n",
    "result"
   ]
  },
  {
   "cell_type": "code",
   "execution_count": 70,
   "id": "de65cf54",
   "metadata": {},
   "outputs": [
    {
     "data": {
      "text/plain": [
       "[<matplotlib.lines.Line2D at 0x212261ccf50>,\n",
       " <matplotlib.lines.Line2D at 0x212261cca10>,\n",
       " <matplotlib.lines.Line2D at 0x2122703bb90>]"
      ]
     },
     "execution_count": 70,
     "metadata": {},
     "output_type": "execute_result"
    },
    {
     "data": {
      "image/png": "[encoded data removed]",
      "text/plain": [
       "<Figure size 640x480 with 1 Axes>"
      ]
     },
     "metadata": {},
     "output_type": "display_data"
    }
   ],
   "source": [
    "import matplotlib.pyplot as plt\n",
    "plt.plot(result,marker='o')"
   ]
  },
  {
   "cell_type": "code",
   "execution_count": 71,
   "id": "417ab86b",
   "metadata": {},
   "outputs": [
    {
     "name": "stdout",
     "output_type": "stream",
     "text": [
      "[  2.71828183   7.3890561   20.08553692  54.59815003 148.4131591 ]\n",
      "[1.         1.41421356 1.73205081 2.         2.23606798]\n",
      "[0.         0.69314718 1.09861229 1.38629436 1.60943791]\n"
     ]
    }
   ],
   "source": [
    "arr5=np.array([1,2,3,4,5])\n",
    "print(np.exp(arr5))\n",
    "print(np.sqrt(arr5))\n",
    "print(np.log(arr5))"
   ]
  },
  {
   "cell_type": "code",
   "execution_count": 77,
   "id": "6a50e68e",
   "metadata": {},
   "outputs": [
    {
     "data": {
      "text/plain": [
       "array([[1, 2, 3],\n",
       "       [4, 5, 6]])"
      ]
     },
     "execution_count": 77,
     "metadata": {},
     "output_type": "execute_result"
    }
   ],
   "source": [
    "arr6=np.array([1,2,3,4,5,6])\n",
    "arr6.reshape(2,3)"
   ]
  },
  {
   "cell_type": "code",
   "execution_count": 80,
   "id": "bde7fb57",
   "metadata": {},
   "outputs": [
    {
     "name": "stdout",
     "output_type": "stream",
     "text": [
      "[[1 2]\n",
      " [3 4]]\n",
      "[1 2 3 4]\n"
     ]
    }
   ],
   "source": [
    "a1=np.array([1,2])\n",
    "a2=np.array([3,4])\n",
    "print(np.vstack((a1,a2)))\n",
    "print(np.hstack((a1,a2)))"
   ]
  },
  {
   "cell_type": "code",
   "execution_count": null,
   "id": "502643db",
   "metadata": {},
   "outputs": [],
   "source": []
  }
 ],
 "metadata": {
  "kernelspec": {
   "display_name": "Python 3 (ipykernel)",
   "language": "python",
   "name": "python3"
  },
  "language_info": {
   "codemirror_mode": {
    "name": "ipython",
    "version": 3
   },
   "file_extension": ".py",
   "mimetype": "text/x-python",
   "name": "python",
   "nbconvert_exporter": "python",
   "pygments_lexer": "ipython3",
   "version": "3.11.5"
  }
 },
 "nbformat": 4,
 "nbformat_minor": 5
}
